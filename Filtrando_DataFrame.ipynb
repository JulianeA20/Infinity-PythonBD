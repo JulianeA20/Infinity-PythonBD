{
  "cells": [
    {
      "cell_type": "code",
      "execution_count": null,
      "metadata": {
        "id": "uyLaqFfQF2Sl"
      },
      "outputs": [],
      "source": [
        "import pandas as pd"
      ]
    },
    {
      "cell_type": "code",
      "execution_count": 2,
      "metadata": {
        "id": "1zWBEtCGGALh"
      },
      "outputs": [],
      "source": [
        "dataset = r'https://raw.githubusercontent.com/rafaelpuyau/infinity_school/main/ds/datasets/wines.csv'"
      ]
    },
    {
      "cell_type": "code",
      "execution_count": 22,
      "metadata": {
        "id": "n1yosXXVGWhe"
      },
      "outputs": [],
      "source": [
        "df = pd.read_csv(dataset, sep=',')"
      ]
    },
    {
      "cell_type": "code",
      "execution_count": null,
      "metadata": {
        "id": "Apb0an9eG3S2"
      },
      "outputs": [],
      "source": [
        "df.iloc[10:20,1:5]"
      ]
    },
    {
      "cell_type": "code",
      "execution_count": null,
      "metadata": {
        "id": "1fdG3FunIfP2"
      },
      "outputs": [],
      "source": [
        "df.head()"
      ]
    },
    {
      "cell_type": "code",
      "execution_count": 24,
      "metadata": {
        "id": "90D8FdBXIm-i"
      },
      "outputs": [],
      "source": [
        "df['price in R$'] = df['price'].apply(lambda x : x * 5.2)"
      ]
    },
    {
      "cell_type": "markdown",
      "metadata": {
        "id": "sHdt3JU3K5SP"
      },
      "source": [
        "**Dataframe próprio**"
      ]
    },
    {
      "cell_type": "code",
      "execution_count": 30,
      "metadata": {
        "id": "4TRqKkgdK-ly"
      },
      "outputs": [],
      "source": [
        "dfLanguages = pd.DataFrame(\n",
        "    {\n",
        "        'Linguagem': ['Python', 'R', 'SQL', 'C', 'Java', 'Javascript', 'Elixir'],\n",
        "        'Popularidade': ['Alta', 'Baixa', 'Altíssima', 'Média', 'Altíssima', 'Altíssima', 'Baixa'],\n",
        "        'Versão': [3.10, 4.2, None, None, 11, 16, 1.12],\n",
        "        'Desenvolvedores': [7_000_000, 500_000, 20_000_000, 3_500_000, 16_000_000, 25_000_000, 200_000],\n",
        "        'Data de Lançamento': ['1991-02-20', '1993-08-03', '1986-01-01', '1972-01-01', '1995-05-23', '1995-12-04', '2012-01-01']\n",
        "    }\n",
        ")"
      ]
    },
    {
      "cell_type": "code",
      "execution_count": null,
      "metadata": {
        "id": "wOKfDUHpLFRW"
      },
      "outputs": [],
      "source": [
        "dfLanguages.head()"
      ]
    },
    {
      "cell_type": "markdown",
      "metadata": {
        "id": "47gyK2o3MGL7"
      },
      "source": [
        "**Resgate os valores da coluna Desenvolvedores**"
      ]
    },
    {
      "cell_type": "code",
      "execution_count": 46,
      "metadata": {
        "id": "Qk1Ex1xUONCV"
      },
      "outputs": [],
      "source": [
        "pd.options.display.float_format = '{:,.2f}'.format"
      ]
    },
    {
      "cell_type": "code",
      "execution_count": null,
      "metadata": {
        "id": "u3jCBLuVNQx3"
      },
      "outputs": [],
      "source": [
        "dfLanguages.iloc[:,3]"
      ]
    },
    {
      "cell_type": "code",
      "execution_count": null,
      "metadata": {
        "id": "PSIQg1fbNtLl"
      },
      "outputs": [],
      "source": [
        "dfLanguages['Desenvolvedores'].describe()"
      ]
    },
    {
      "cell_type": "markdown",
      "metadata": {
        "id": "PwboKZ3mPDvr"
      },
      "source": [
        "**Dataframe de notas**"
      ]
    },
    {
      "cell_type": "code",
      "execution_count": 51,
      "metadata": {
        "id": "5lk8aqfyPWev"
      },
      "outputs": [],
      "source": [
        "import numpy as np"
      ]
    },
    {
      "cell_type": "code",
      "execution_count": 101,
      "metadata": {
        "id": "leTDyqFCPGz8"
      },
      "outputs": [],
      "source": [
        "dfNotas = pd.DataFrame(\n",
        "    data=[],\n",
        "    columns=['Lógica de Programação', 'Python', 'Data Science', 'HTML CSS', 'JavaScript', 'React Native'],\n",
        "    index=['Amanda', 'Camila', 'Cinthia', 'Gisele', 'Helen', 'Carol', 'Clara', 'Paula']\n",
        ")"
      ]
    },
    {
      "cell_type": "code",
      "execution_count": 103,
      "metadata": {
        "id": "1EcfVTOsPZkX"
      },
      "outputs": [],
      "source": [
        "dfNotas = dfNotas.apply(lambda nota : np.random.uniform(low=6,high=10, size=8), axis='index')"
      ]
    },
    {
      "cell_type": "code",
      "execution_count": 105,
      "metadata": {
        "id": "-c53_XjiRkkj"
      },
      "outputs": [],
      "source": [
        "dfNotas['Média'] = dfNotas.mean(axis='columns')"
      ]
    },
    {
      "cell_type": "code",
      "execution_count": 107,
      "metadata": {
        "id": "fONXiIBiSLbW"
      },
      "outputs": [],
      "source": [
        "dfNotas['Situação'] = dfNotas['Média'].map(lambda valor : 'AP' if valor > 7 else 'RP')"
      ]
    },
    {
      "cell_type": "markdown",
      "metadata": {
        "id": "LXCi2UzDUE0W"
      },
      "source": [
        "**Modificar a situação, onde estiver AP, deverá ficar Aprovado e RP, deverá ficar reprovado**"
      ]
    },
    {
      "cell_type": "code",
      "execution_count": 109,
      "metadata": {
        "id": "vvkyZ_fEWdfM"
      },
      "outputs": [],
      "source": [
        "dfNotas['Situação'] = dfNotas['Situação'].map(lambda texto : 'Aprovado' if texto == 'AP' else 'Reprovado')"
      ]
    },
    {
      "cell_type": "code",
      "execution_count": null,
      "metadata": {
        "id": "0CotoXWLPJiK"
      },
      "outputs": [],
      "source": [
        "dfNotas.iloc[0:8,2:9]"
      ]
    },
    {
      "cell_type": "markdown",
      "metadata": {
        "id": "0KCzFOSTXF4u"
      },
      "source": [
        "**Como executar uma ordenação no df**"
      ]
    },
    {
      "cell_type": "code",
      "execution_count": null,
      "metadata": {
        "id": "NN1FqhLZXKBA"
      },
      "outputs": [],
      "source": [
        "dfNotas.sort_values(by='React Native' ,ascending=False)"
      ]
    }
  ],
  "metadata": {
    "colab": {
      "provenance": []
    },
    "kernelspec": {
      "display_name": "Python 3",
      "name": "python3"
    },
    "language_info": {
      "name": "python"
    }
  },
  "nbformat": 4,
  "nbformat_minor": 0
}
